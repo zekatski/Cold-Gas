{
 "cells": [
  {
   "cell_type": "markdown",
   "id": "9deaedcf-6cda-4b4a-85d0-20d494172b74",
   "metadata": {},
   "source": [
    "# Tracing the cold H2 gas in the milky way\n",
    "### Statistics Project"
   ]
  },
  {
   "cell_type": "code",
   "execution_count": null,
   "id": "79c96a68-1f71-4e4c-809c-3a2849e057ef",
   "metadata": {},
   "outputs": [],
   "source": []
  }
 ],
 "metadata": {
  "kernelspec": {
   "display_name": "Python 3 (ipykernel)",
   "language": "python",
   "name": "python3"
  },
  "language_info": {
   "codemirror_mode": {
    "name": "ipython",
    "version": 3
   },
   "file_extension": ".py",
   "mimetype": "text/x-python",
   "name": "python",
   "nbconvert_exporter": "python",
   "pygments_lexer": "ipython3",
   "version": "3.12.4"
  }
 },
 "nbformat": 4,
 "nbformat_minor": 5
}
