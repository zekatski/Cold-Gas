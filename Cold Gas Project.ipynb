{
 "cells": [
  {
   "cell_type": "markdown",
   "id": "9deaedcf-6cda-4b4a-85d0-20d494172b74",
   "metadata": {},
   "source": [
    "# Tracing the Cold H2 Gas in the Milky Way\n",
    "#### Statistics Project"
   ]
  },
  {
   "cell_type": "markdown",
   "id": "79c96a68-1f71-4e4c-809c-3a2849e057ef",
   "metadata": {},
   "source": [
    "### Molecular Hydrogen Generally"
   ]
  },
  {
   "cell_type": "markdown",
   "id": "29534fee",
   "metadata": {},
   "source": [
    "Molecular hydrogen was the first ever neutral molecule to be formed in the universe and is as well the single most common molecule in the entire universe. "
   ]
  },
  {
   "cell_type": "code",
   "execution_count": null,
   "id": "0159db01",
   "metadata": {},
   "outputs": [],
   "source": []
  },
  {
   "cell_type": "markdown",
   "id": "c97d0034",
   "metadata": {},
   "source": []
  },
  {
   "cell_type": "code",
   "execution_count": null,
   "id": "6b392a5b",
   "metadata": {},
   "outputs": [],
   "source": []
  },
  {
   "cell_type": "code",
   "execution_count": null,
   "id": "4fcf2375",
   "metadata": {},
   "outputs": [],
   "source": []
  }
 ],
 "metadata": {
  "kernelspec": {
   "display_name": "base",
   "language": "python",
   "name": "python3"
  },
  "language_info": {
   "codemirror_mode": {
    "name": "ipython",
    "version": 3
   },
   "file_extension": ".py",
   "mimetype": "text/x-python",
   "name": "python",
   "nbconvert_exporter": "python",
   "pygments_lexer": "ipython3",
   "version": "3.12.4"
  }
 },
 "nbformat": 4,
 "nbformat_minor": 5
}
