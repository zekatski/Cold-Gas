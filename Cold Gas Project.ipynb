{
 "cells": [
  {
   "cell_type": "markdown",
   "id": "9deaedcf-6cda-4b4a-85d0-20d494172b74",
   "metadata": {},
   "source": [
    "# Tracing the cold H2 gas in the milky way\n",
    "### Statistics Project"
   ]
  },
  {
   "cell_type": "code",
   "execution_count": null,
   "id": "79c96a68-1f71-4e4c-809c-3a2849e057ef",
   "metadata": {
    "scrolled": true
   },
   "outputs": [],
   "source": [
    "\n"
   ]
  },
  {
   "cell_type": "code",
   "execution_count": null,
   "id": "a88aae03-1776-4c0d-b07b-0d57c642869a",
   "metadata": {},
   "outputs": [],
   "source": []
  },
  {
   "cell_type": "code",
   "execution_count": null,
   "id": "a9a015a7-6ecc-4bf9-97c9-66537dc566d1",
   "metadata": {},
   "outputs": [],
   "source": []
  }
 ],
 "metadata": {
  "kernelspec": {
   "display_name": "Python 3 (ipykernel)",
   "language": "python",
   "name": "python3"
  },
  "language_info": {
   "codemirror_mode": {
    "name": "ipython",
    "version": 3
   },
   "file_extension": ".py",
   "mimetype": "text/x-python",
   "name": "python",
   "nbconvert_exporter": "python",
   "pygments_lexer": "ipython3",
   "version": "3.12.4"
  }
 },
 "nbformat": 4,
 "nbformat_minor": 5
}
